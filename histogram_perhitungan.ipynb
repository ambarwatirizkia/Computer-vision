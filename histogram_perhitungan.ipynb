{
  "nbformat": 4,
  "nbformat_minor": 0,
  "metadata": {
    "colab": {
      "provenance": []
    },
    "kernelspec": {
      "name": "python3",
      "display_name": "Python 3"
    },
    "language_info": {
      "name": "python"
    }
  },
  "cells": [
    {
      "cell_type": "code",
      "execution_count": 1,
      "metadata": {
        "colab": {
          "base_uri": "https://localhost:8080/"
        },
        "id": "J4UKi9q79I7Z",
        "outputId": "484562c9-1831-4a6e-b8e1-9a9339198f6a"
      },
      "outputs": [
        {
          "output_type": "stream",
          "name": "stdout",
          "text": [
            "Cw | w-baru\n",
            " 2 | 0.75\n",
            " 6 | 2.25\n",
            " 9 | 3.38\n",
            " 10 | 3.75\n",
            " 13 | 4.88\n",
            " 19 | 7.12\n",
            " 23 | 8.62\n",
            " 26 | 9.75\n",
            " 27 | 10.12\n",
            " 27 | 10.12\n",
            " 30 | 11.25\n",
            " 32 | 12.00\n"
          ]
        }
      ],
      "source": [
        "histogram = [0, 2, 4, 3, 1, 3, 6, 4, 3, 1, 0, 3, 2]\n",
        "c = [0] * 13\n",
        "w_baru = [0] * 13\n",
        "cc = 0\n",
        "\n",
        "for i in range(1, 13):\n",
        "    cc = cc + histogram[i]\n",
        "    c[i] = cc\n",
        "\n",
        "for i in range(1, 13):\n",
        "    w_baru[i] = (c[i] * 12) / 32\n",
        "\n",
        "print(\"Cw | w-baru\")\n",
        "for i in range(1, 13):\n",
        "    print(f\" {c[i]} | {w_baru[i]:.2f}\")\n"
      ]
    }
  ]
}